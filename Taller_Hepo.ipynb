{
  "cells": [
    {
      "cell_type": "code",
      "execution_count": null,
      "metadata": {
        "colab": {
          "base_uri": "https://localhost:8080/"
        },
        "id": "VyFcS3gJLe1S",
        "outputId": "858fc963-92f5-4ec7-ddd9-552f0c5b02f1"
      },
      "outputs": [
        {
          "name": "stdout",
          "output_type": "stream",
          "text": [
            "alumno: \n",
            "\tNombre: Jorge\n",
            "\tApellido: Henao\n",
            "\tEdad: 30\n",
            "\tCurso: bachillerato\n",
            "\tMatricula: ['matematicas', 'Tecnologia']\n",
            " \n"
          ]
        }
      ],
      "source": [
        "class Persona():\n",
        "  def __init__(self):\n",
        "    self.__Nombre=\"\"\n",
        "    self.__Apellido=\"\"\n",
        "    self.__Edad=0\n",
        "\n",
        "  def GetNombre(self):\n",
        "    return self.__Nombre\n",
        "\n",
        "  def SetNombre(self, nombre):\n",
        "    self.__Nombre=nombre\n",
        "  \n",
        "  def GetApellido(self):\n",
        "    return self.__Apellido\n",
        "\n",
        "  def SetApellido(self, apellido):\n",
        "    self.__Apellido = apellido\n",
        "\n",
        "  def GetEdad(self):\n",
        "    return self.__Edad\n",
        "\n",
        "  def SetEdad(self, edad):\n",
        "    self.__Edad=edad\n",
        "\n",
        "  \n",
        "class Alumno(Persona):\n",
        "  def __init__(self):\n",
        "    self.__Curso=\"\"\n",
        "    self.__Asignatura=\"\"\n",
        "\n",
        "  def GetCurso(self):\n",
        "    return self.__Curso\n",
        "\n",
        "  def SetCurso(self, curso):\n",
        "    self.__Curso= curso\n",
        "\n",
        "  def GetAsignatura(self):\n",
        "    return self.__Asignatura\n",
        "  \n",
        "  def SetAsignatura(self, asignatura):\n",
        "    self.__Asignatura = asignatura \n",
        "\n",
        "  def MostrarAlumno(self):\n",
        "    print(\"alumno: \")\n",
        "    print(\"\\tNombre:\",self.GetNombre())\n",
        "    print(\"\\tApellido:\",self.GetApellido())\n",
        "    print(\"\\tEdad:\",self.GetEdad())\n",
        "    print(\"\\tCurso:\",self.__Curso)\n",
        "    print(\"\\tMatricula:\",self.__Asignatura)\n",
        "    print(\" \")\n",
        "    \n",
        "\n",
        "alumno=Alumno()\n",
        "alumno.SetNombre(\"Jorge\")\n",
        "alumno.SetApellido(\"Henao\")\n",
        "alumno.SetEdad(\"30\")\n",
        "alumno.SetCurso(\"bachillerato\")\n",
        "alumno.SetAsignatura([\"matematicas\",\"Tecnologia\"])\n",
        "alumno.MostrarAlumno()"
      ]
    },
    {
      "cell_type": "code",
      "execution_count": null,
      "metadata": {
        "colab": {
          "base_uri": "https://localhost:8080/"
        },
        "id": "wKSBIejMLyV0",
        "outputId": "c7d573ab-d97e-4dea-c728-514945211aa0"
      },
      "outputs": [
        {
          "name": "stdout",
          "output_type": "stream",
          "text": [
            "alumno: \n",
            "\tNombre: Jorge\n",
            "\tApellido: Henao\n",
            "\tEdad: 30\n",
            "\tCurso: bachillerato\n",
            "\tMatricula: ['matematicas', 'Tecnologia']\n",
            " \n",
            "profesor: \n",
            "\tNombre: Edna\n",
            "\tApellido: Rivas Ortiz\n",
            "\tEdad: 45\n",
            "\tAntiguedad: 30\n",
            "\tTutorias: [['lunes', '2-4 pm'], ['martes', '4-6 pm']]\n",
            "\tTelefono: 312450000\n",
            " \n"
          ]
        }
      ],
      "source": [
        "class Profesor(Persona):\n",
        "  def __init__(self):\n",
        "    self.__Antiguedad=\"\"\n",
        "    self.__Tutorias=\"\"\n",
        "    self.__Telefono=\"\"\n",
        "\n",
        "  def GetAntiguedad(self):\n",
        "    return self.__Antiguedad\n",
        "\n",
        "  def SetAntiguedad(self, antiguedad):\n",
        "    self.__Antiguedad = antiguedad\n",
        "\n",
        "  def GetTutorias(self):\n",
        "    return self.__Tutorias\n",
        "\n",
        "  def SetTutorias(self, tutorias):\n",
        "    self.__Tutorias = tutorias\n",
        "\n",
        "  def GetTelefono(self):\n",
        "    return self.__Telefono\n",
        "\n",
        "  def SetTelefono(self, telefono):\n",
        "    self.__Telefono = telefono\n",
        "\n",
        "  def MostrarProfesor(self):\n",
        "    print(\"profesor: \")\n",
        "    print(\"\\tNombre:\",self.GetNombre())\n",
        "    print(\"\\tApellido:\",self.GetApellido())\n",
        "    print(\"\\tEdad:\",self.GetEdad())\n",
        "    print(\"\\tAntiguedad:\",self.__Antiguedad)\n",
        "    print(\"\\tTutorias:\",self.__Tutorias)\n",
        "    print(\"\\tTelefono:\",self.__Telefono)\n",
        "    print(\" \")\n",
        "\n",
        "\n",
        "alumno=Alumno()\n",
        "alumno.SetNombre(\"Jorge\")\n",
        "alumno.SetApellido(\"Henao\")\n",
        "alumno.SetEdad(30)\n",
        "alumno.SetCurso(\"bachillerato\")\n",
        "alumno.SetAsignatura([\"matematicas\",\"Tecnologia\"])\n",
        "alumno.MostrarAlumno()\n",
        "\n",
        "\n",
        "profesor=Profesor()\n",
        "profesor.SetNombre(\"Edna\")\n",
        "profesor.SetApellido(\"Rivas Ortiz\")\n",
        "profesor.SetEdad(45)\n",
        "profesor.SetAntiguedad(30)\n",
        "profesor.SetTutorias([[\"lunes\",\"2-4 pm\"],[\"martes\",\"4-6 pm\"]])\n",
        "profesor.SetTelefono(\"312450000\")\n",
        "profesor.MostrarProfesor()"
      ]
    },
    {
      "cell_type": "code",
      "execution_count": null,
      "metadata": {
        "colab": {
          "base_uri": "https://localhost:8080/"
        },
        "id": "OyzALVQUObM9",
        "outputId": "139376f0-6250-41df-8dcf-a8abaafc03fd"
      },
      "outputs": [
        {
          "name": "stdout",
          "output_type": "stream",
          "text": [
            "profesor: \n",
            "\tNombre: Edna\n",
            "\tApellido: Rivas Ortiz\n",
            "\tEdad: 45\n",
            "\tAntiguedad: 30\n",
            "\tTutorias: [['lunes', '2-4 pm'], ['martes', '4-6 pm']]\n",
            "\tTelefono: 312450000\n",
            " \n",
            "Investigador: \n",
            "\tEspecialidad: Espia\n",
            "\tAños: 16\n",
            " \n",
            "profesor Universitario: \n",
            "\tUniversidad: La Fet\n",
            "\tDepartamento: Huila\n",
            " \n"
          ]
        }
      ],
      "source": [
        "class Investigador(Persona):\n",
        "  def __init__(self):\n",
        "    self.__Especialidad=\"\"\n",
        "    self.__Anos=\"\"\n",
        "  \n",
        "  def GetEspecialidad(self):\n",
        "    return self.__Especialidad\n",
        "\n",
        "  def SetEspecialidad(self, especialidad):\n",
        "    self.__Especialidad = especialidad\n",
        "\n",
        "  def GetAnos(self):\n",
        "    return self.__Anos\n",
        "\n",
        "  def SetAnos(self, anos):\n",
        "    self.__Anos = anos\n",
        "\n",
        "  def MostrarInvestigador(self):\n",
        "    print(\"Investigador: \")\n",
        "    print(\"\\tEspecialidad:\",self.GetEspecialidad())\n",
        "    print(\"\\tAños:\",self.GetAnos())\n",
        "    print(\" \")\n",
        "\n",
        "class ProfesorUniversitario(Investigador, Persona):\n",
        "  def __init__(self):\n",
        "    self.__Universidad=\"\"\n",
        "    self.__Departamento=\"\"\n",
        "  \n",
        "  def GetUniversidad(self):\n",
        "    return self.__Universidad\n",
        "\n",
        "  def SetUniversidad(self, universidad):\n",
        "    self.__Universidad = universidad\n",
        "\n",
        "  def GetDepartamento(self):\n",
        "    return self.__Departamento\n",
        "\n",
        "  def SetDepartamento(self, departamento):\n",
        "    self.__Departamento = departamento\n",
        "\n",
        "\n",
        "  def MostrarProfesorUniversitario(self):\n",
        "    print(\"profesor Universitario: \")\n",
        "    print(\"\\tUniversidad:\",self.GetUniversidad())\n",
        "    print(\"\\tDepartamento:\",self.GetDepartamento())\n",
        "    print(\" \")\n",
        "\n",
        "\n",
        "profesor=Profesor()\n",
        "profesor.SetNombre(\"Edna\")\n",
        "profesor.SetApellido(\"Rivas Ortiz\")\n",
        "profesor.SetEdad(45)\n",
        "profesor.SetAntiguedad(30)\n",
        "profesor.SetTutorias([[\"lunes\",\"2-4 pm\"],[\"martes\",\"4-6 pm\"]])\n",
        "profesor.SetTelefono(\"312450000\")\n",
        "profesor.MostrarProfesor()\n",
        "\n",
        "investigador=Investigador()\n",
        "investigador.SetEspecialidad(\"Espia\")\n",
        "investigador.SetAnos(\"16\")\n",
        "investigador.MostrarInvestigador()\n",
        "\n",
        "profesoruni=ProfesorUniversitario()\n",
        "profesoruni.SetUniversidad(\"La Fet\")\n",
        "profesoruni.SetDepartamento(\"Huila\")\n",
        "profesoruni.MostrarProfesorUniversitario()\n"
      ]
    },
    {
      "cell_type": "code",
      "execution_count": null,
      "metadata": {
        "colab": {
          "base_uri": "https://localhost:8080/",
          "height": 139
        },
        "id": "IK1oJr03NCm9",
        "outputId": "1ee02603-6f2a-4d75-c253-7c8559934585"
      },
      "outputs": [
        {
          "name": "stdout",
          "output_type": "stream",
          "text": [
            "ingrese su nombre: martin\n",
            "ingrese su apellido: bermeo\n",
            "ingrese su edad: 23\n",
            "ingrese su cedula: 3243546\n",
            "ingrese su sueldo: 555000\n",
            "calle 5 numero 13-32 barrio x\n"
          ]
        },
        {
          "data": {
            "application/vnd.google.colaboratory.intrinsic+json": {
              "type": "string"
            },
            "text/plain": [
              "'martin bermeo recuerde que su saldo es de 555000.0'"
            ]
          },
          "execution_count": 13,
          "metadata": {},
          "output_type": "execute_result"
        }
      ],
      "source": [
        "class Persona:\n",
        "  def __init__(self):\n",
        "    self.nombre=input(\"ingrese su nombre: \")\n",
        "    self.apellido=input(\"ingrese su apellido: \")\n",
        "    self.edad=int(input(\"ingrese su edad: \"))\n",
        "    self.cedula=int(input(\"ingrese su cedula: \"))\n",
        "\n",
        "  def mostrar(self):\n",
        "    print(self.nombre,self.apellido,self.edad,self.cedula)\n",
        "\n",
        "\n",
        "class Empleado(Persona):\n",
        "  def __init__(self):\n",
        "    super().__init__()\n",
        "    self.sueldo=float(input(\"ingrese su sueldo: \"))\n",
        " \n",
        "  def mostrar(self):\n",
        "    super().mostrar()\n",
        "    print(self.sueldo)\n",
        "\n",
        "  def pagar(self):\n",
        "    if self.sueldo>500000:\n",
        "      print(\"su saldo es de\",self.sueldo)\n",
        "    else:\n",
        "      return \"{} su saldo es de {} por lo tanto no recibira el pago\".format(self.nombre, self.sueldo)\n",
        "\n",
        "class Direccion:\n",
        "  def mostrardireccion(self):\n",
        "    print(\"calle 5 numero 13-32 barrio x\")\n",
        "\n",
        "class RecursosHumanos(Empleado, Direccion):\n",
        "  def saludos(self):\n",
        "    super().mostrardireccion()\n",
        "    return \"{} {} recuerde que su saldo es de {}\".format(self.nombre,self.apellido,self.sueldo)\n",
        "\n",
        "\n",
        "persona=RecursosHumanos()\n",
        "persona.saludos()"
      ]
    },
    {
      "cell_type": "markdown",
      "metadata": {
        "id": "65dtvCC4QwCv"
      },
      "source": [
        "![Herencia.drawio-2.png](data:image/png;base64,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)"
      ]
    },
    {
      "cell_type": "code",
      "execution_count": null,
      "metadata": {
        "id": "u_ayAX5A_IWE"
      },
      "outputs": [],
      "source": [
        "\n",
        "class Animal:\n",
        "  def __init__(self):\n",
        "    self.color=(input(\"Ingrese el color: \"))\n",
        "    self.peso=float(input(\"Ingrese su peso en k: \"))\n",
        "\n",
        "  def comer(self):\n",
        "    if self.peso >= 10:\n",
        "      print(\"Es un animal que come mucho ya que pesa \",self.peso,\"kilogramos\")\n",
        "    else:\n",
        "      print(\"Su alimentacion es moderada ya que pesa \",self.peso,\"kilogramos\")\n",
        "\n",
        "  def moverse(self):\n",
        "    if self.peso > 12:\n",
        "      print(\"Es un animal que se mueve lento\")\n",
        "    else:\n",
        "      print(\"Es un animal con buen movimiento\")\n",
        "  \n",
        "class Ave(Animal):\n",
        "  def __init__(self):\n",
        "    self.tipo=input(\"Digite el tipo de ave: \")\n",
        "\n",
        "  \n",
        "  def volar(self):\n",
        "    print (\"El ave vuela por el cielo con sus plumas de \",self.tipo)\n",
        "\n",
        "class Perro(Ave, Animal):\n",
        "  def __init__(self):\n",
        "    self.Raza=input(\"Digite la raza del perro: \")\n",
        "\n",
        "  def ladra(self):\n",
        "    print (\"La raza \",self.Raza,\"Es una de las mejores\")\n",
        "\n",
        "\n",
        "anima=Animal()\n",
        "anima.comer()\n",
        "anima.moverse()\n",
        "\n",
        "anima=Ave()\n",
        "anima.volar()\n",
        "\n",
        "anima=Perro()\n",
        "anima.ladra()\n"
      ]
    },
    {
      "cell_type": "markdown",
      "metadata": {
        "id": "E-kq6Az7SCfo"
      },
      "source": [
        "POLIFORMISMO"
      ]
    },
    {
      "cell_type": "code",
      "execution_count": null,
      "metadata": {
        "id": "L6R6dbDuSF1-"
      },
      "outputs": [],
      "source": [
        "class Tokio():\n",
        "  def caracter(self):\n",
        "    print(\"El caracter de Tokio es impulsivo\")\n",
        "\n",
        "class Profesor():\n",
        "  def caracter(self):\n",
        "    print(\"El profesor es tranquilo\")\n",
        "\n",
        "class Berlin():\n",
        "  def caracter(self):\n",
        "    print(\"Berlin es un narcisista egocentrico\")\n",
        "\n",
        "def modo(personaje):\n",
        "  personaje.caracter()\n",
        "\n",
        "\n",
        "modo(Tokio())\n",
        "modo(Profesor())\n",
        "modo(Berlin())"
      ]
    },
    {
      "cell_type": "code",
      "execution_count": null,
      "metadata": {
        "id": "CVjThRnn3Ga5"
      },
      "outputs": [],
      "source": [
        "class Desierto:\n",
        "    def clima(self):\n",
        "        print(\"La temperatura del desierto es muy alta, cerca a los 40 grados\")\n",
        "\n",
        "class San_Agustin:\n",
        "    def clima(self):\n",
        "        print (\"El clima de San Angustin es frio, con temperatura de 17 grados\")\n",
        "\n",
        "class Rivera:\n",
        "    def clima(self):\n",
        "        print (\"El clima de rivera es templado, con unos 24 grados \")\n",
        "\n",
        "def va(lugares):\n",
        "    lugares.clima()\n",
        "\n",
        "va(Desierto())\n",
        "va(San_Agustin())\n",
        "va(Rivera())"
      ]
    }
  ],
  "metadata": {
    "colab": {
      "provenance": []
    },
    "kernelspec": {
      "display_name": "Python 3.10.4 64-bit",
      "language": "python",
      "name": "python3"
    },
    "language_info": {
      "name": "python",
      "version": "3.10.4"
    },
    "vscode": {
      "interpreter": {
        "hash": "aee8b7b246df8f9039afb4144a1f6fd8d2ca17a180786b69acc140d282b71a49"
      }
    }
  },
  "nbformat": 4,
  "nbformat_minor": 0
}
